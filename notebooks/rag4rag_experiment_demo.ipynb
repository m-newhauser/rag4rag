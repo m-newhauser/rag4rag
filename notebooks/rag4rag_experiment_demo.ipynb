{
 "cells": [
  {
   "cell_type": "markdown",
   "metadata": {},
   "source": [
    "# rag4rag: Using RAG to generate data for fine-tuning retrieval models\n",
    "## A demo\n",
    "By Mary Newhauser, MLE @ Weaviate\n",
    "\n",
    "Using synthetic data to fine-tune retrieval models is a cheap and popular way to increase accuracy for RAG and agentic workflows. But synthetic data has a huge hallucination problem. This problem, however, can be fixed by using RAG to generate sythnetic data for fine-tuning rather than using LLMs in isolation.\n",
    "\n",
    "### What type of data is needed for fine-tuning a retrieval model?\n",
    "Retrieval is the process of accessing or recovering stored information or items. To train models to be better at retrieval, we feed them a `context` along with `question` and `answer` pairs.\n",
    "\n",
    "Here's an example:\n",
    "```json\n",
    "{\n",
    "    \"context\": \"Beyoncé's debut album, Dangerously in Love (2003), established her as a solo artist worldwide.\",\n",
    "    \"question\": \"Which album established Beyoncé as a worldwide artist?\",\n",
    "    \"answer\": \"Dangerously in Love.\"\n",
    "}\n",
    "```\n",
    "\n",
    "Curating these types of datasets with human annotators is both costly and laborious because it requires humans to read a chunk of text (which can be long), come with their own sets of questions, and then give the answers to those questions. As a result, many have turned to using LLMs to generate this type of data synthetically. \n",
    "\n",
    "### The hallucination problem\n",
    "\n",
    "To generate synthetic data, usually the `context` is passed to the LLM in a prompt, along with instructions to use it to generate a `question` and an `answer`. The problem is that when generating the `answer`, the LLM can hallucinate, producing an incorrect `answer` based on information in its parametric memory (aka the training data) rather than an `answer` grounded in the `context`. \n",
    "\n",
    "Here's a real example I obtained during my research:\n",
    "```json\n",
    "{\n",
    "    \"context\": \"Beyoncé's debut album, Dangerously in Love (2003), established her as a solo artist worldwide.\",\n",
    "    \"question\": \"Which album established Beyoncé as a worldwide artist?\",\n",
    "    \"synthetic_answer\": \"1989.\"\n",
    "}\n",
    "```\n",
    "Although the answer is so obviously Crazy In Love, the gave the wrong answer. But the wrong answer it gave is VERY interesting... because 1989 was the album that established Taylor Swift as a worldwide artist. This proves that not only did the model not ground its answer in the provided context, but it relied on its training to produce an incorrect answer. In short, it hallucinated.\n",
    "\n",
    "### RAG as the solution\n",
    "In this notebook, we examine the hallucination problem in synthetic RAG data and propose and test a solution: using RAG to generate data to fine-tune retrievers. We find that using RAG, rather than simply instructing a LLM to go back into the context to generate an answer, dramatically improves accuracy.\n",
    "\n",
    "We also accomplish the following:\n",
    "* Use [LettuceDetect](https://krlabs.eu/LettuceDetect/), to detect hallucinations in synthetically generated data\n",
    "* Examine 5 examples of hallucinations in the synthetic data\n",
    "* Use RAG (with LangChain and FAISS) to generate more accurate data\n",
    "* Evaluate RAG-generated data with LettuceDetect to check for hallucinations"
   ]
  },
  {
   "cell_type": "code",
   "execution_count": 1,
   "metadata": {},
   "outputs": [],
   "source": [
    "import os\n",
    "import openai\n",
    "import textwrap\n",
    "\n",
    "import pandas as pd\n",
    "import plotly.express as px\n",
    "\n",
    "from datasets import load_dataset\n",
    "from lettucedetect.models.inference import HallucinationDetector\n",
    "\n",
    "from langchain.embeddings import OpenAIEmbeddings\n",
    "from langchain.vectorstores import FAISS\n",
    "from langchain.docstore.document import Document\n",
    "from langchain.llms import OpenAI\n",
    "from langchain.chains import RetrievalQA"
   ]
  },
  {
   "cell_type": "code",
   "execution_count": 2,
   "metadata": {},
   "outputs": [],
   "source": [
    "import warnings\n",
    "import logging\n",
    "\n",
    "# Suppress warnings (as you did)\n",
    "warnings.filterwarnings(\"ignore\")\n",
    "\n",
    "# Suppress all logging below ERROR level for the root logger\n",
    "logging.getLogger().setLevel(logging.ERROR)"
   ]
  },
  {
   "cell_type": "markdown",
   "metadata": {},
   "source": [
    "## Load the synthetically-generated RAG dataset\n",
    "\n",
    "This dataset consists of two parts: a human-generated dataset of context, question, and answer triplets and LLM-generated positive (correct) and negative (incorrect) answers based on those same contexts and questions. We then compare the human-generated answers to the LLM-generated (positive) answers.\n",
    "\n",
    "More specifically, this dataset contains 5,000 examples from the [rajpurkar/squad](https://huggingface.co/datasets/rajpurkar/squad) dataset, which consists of human-generated questions and answers based on a set of Wikipedia articles. Both positive and negative synthetically-generated answers to the same context and question pairs were obtained using `gpt-4o`. \n",
    "\n",
    "Here's a breakdown of the different fields in the dataset:\n",
    "\n",
    "| Column name    | Definition |\n",
    "| -------------- | ---------- |\n",
    "| `context`  | Part of a scraped Wikipedia page (from SQuAD dataset) |\n",
    "| `anchor` | Human-generated question about the `context` (from SQuAD dataset)     |\n",
    "| `human_positive`    | Human-generated answer to the `anchor` (from SQuAD dataset)   |\n",
    "| `synthetic_positive`  | Synthetically-generated correct answer to the `anchor` (gpt-4o) |\n",
    "| `synthetic_negative`  |  Synthetically-generated incorrect answer to the `anchor` (gpt-4o)   |"
   ]
  },
  {
   "cell_type": "code",
   "execution_count": 3,
   "metadata": {},
   "outputs": [
    {
     "data": {
      "text/plain": [
       "DatasetDict({\n",
       "    train: Dataset({\n",
       "        features: ['context', 'anchor', 'human_positive', 'synthetic_positive', 'synthetic_negative'],\n",
       "        num_rows: 4989\n",
       "    })\n",
       "})"
      ]
     },
     "execution_count": 3,
     "metadata": {},
     "output_type": "execute_result"
    }
   ],
   "source": [
    "# Load synthetic RAG dataset\n",
    "ds = load_dataset(\"m-newhauser/rag-synthetic-distilabel\")\n",
    "ds"
   ]
  },
  {
   "cell_type": "code",
   "execution_count": 4,
   "metadata": {},
   "outputs": [
    {
     "data": {
      "text/html": [
       "<div>\n",
       "<style scoped>\n",
       "    .dataframe tbody tr th:only-of-type {\n",
       "        vertical-align: middle;\n",
       "    }\n",
       "\n",
       "    .dataframe tbody tr th {\n",
       "        vertical-align: top;\n",
       "    }\n",
       "\n",
       "    .dataframe thead th {\n",
       "        text-align: right;\n",
       "    }\n",
       "</style>\n",
       "<table border=\"1\" class=\"dataframe\">\n",
       "  <thead>\n",
       "    <tr style=\"text-align: right;\">\n",
       "      <th></th>\n",
       "      <th>context</th>\n",
       "      <th>anchor</th>\n",
       "      <th>human_positive</th>\n",
       "      <th>synthetic_positive</th>\n",
       "      <th>synthetic_negative</th>\n",
       "    </tr>\n",
       "  </thead>\n",
       "  <tbody>\n",
       "    <tr>\n",
       "      <th>0</th>\n",
       "      <td>Architecturally, the school has a Catholic cha...</td>\n",
       "      <td>To whom did the Virgin Mary allegedly appear i...</td>\n",
       "      <td>Saint Bernadette Soubirous</td>\n",
       "      <td>The Virgin Mary allegedly appeared to Bernadet...</td>\n",
       "      <td>The Virgin Mary appeared in the sky as the sun...</td>\n",
       "    </tr>\n",
       "    <tr>\n",
       "      <th>1</th>\n",
       "      <td>Architecturally, the school has a Catholic cha...</td>\n",
       "      <td>What is in front of the Notre Dame Main Building?</td>\n",
       "      <td>a copper statue of Christ</td>\n",
       "      <td>In front of the Notre Dame Main Building, you'...</td>\n",
       "      <td>The main building's roof is painted in bright ...</td>\n",
       "    </tr>\n",
       "    <tr>\n",
       "      <th>2</th>\n",
       "      <td>Architecturally, the school has a Catholic cha...</td>\n",
       "      <td>The Basilica of the Sacred heart at Notre Dame...</td>\n",
       "      <td>the Main Building</td>\n",
       "      <td>The Basilica of the Sacred Heart at Notre Dame...</td>\n",
       "      <td>The basilica's heart-shaped design was inspire...</td>\n",
       "    </tr>\n",
       "    <tr>\n",
       "      <th>3</th>\n",
       "      <td>Architecturally, the school has a Catholic cha...</td>\n",
       "      <td>What is the Grotto at Notre Dame?</td>\n",
       "      <td>a Marian place of prayer and reflection</td>\n",
       "      <td>The Grotto at Notre Dame is a sacred replica o...</td>\n",
       "      <td>The grotto was filled with colorful lights and...</td>\n",
       "    </tr>\n",
       "    <tr>\n",
       "      <th>4</th>\n",
       "      <td>Architecturally, the school has a Catholic cha...</td>\n",
       "      <td>What sits on top of the Main Building at Notre...</td>\n",
       "      <td>a golden statue of the Virgin Mary</td>\n",
       "      <td>The iconic Golden Dome sits on top of the Main...</td>\n",
       "      <td>The main course sits on top of the dining tabl...</td>\n",
       "    </tr>\n",
       "  </tbody>\n",
       "</table>\n",
       "</div>"
      ],
      "text/plain": [
       "                                             context  \\\n",
       "0  Architecturally, the school has a Catholic cha...   \n",
       "1  Architecturally, the school has a Catholic cha...   \n",
       "2  Architecturally, the school has a Catholic cha...   \n",
       "3  Architecturally, the school has a Catholic cha...   \n",
       "4  Architecturally, the school has a Catholic cha...   \n",
       "\n",
       "                                              anchor  \\\n",
       "0  To whom did the Virgin Mary allegedly appear i...   \n",
       "1  What is in front of the Notre Dame Main Building?   \n",
       "2  The Basilica of the Sacred heart at Notre Dame...   \n",
       "3                  What is the Grotto at Notre Dame?   \n",
       "4  What sits on top of the Main Building at Notre...   \n",
       "\n",
       "                            human_positive  \\\n",
       "0               Saint Bernadette Soubirous   \n",
       "1                a copper statue of Christ   \n",
       "2                        the Main Building   \n",
       "3  a Marian place of prayer and reflection   \n",
       "4       a golden statue of the Virgin Mary   \n",
       "\n",
       "                                  synthetic_positive  \\\n",
       "0  The Virgin Mary allegedly appeared to Bernadet...   \n",
       "1  In front of the Notre Dame Main Building, you'...   \n",
       "2  The Basilica of the Sacred Heart at Notre Dame...   \n",
       "3  The Grotto at Notre Dame is a sacred replica o...   \n",
       "4  The iconic Golden Dome sits on top of the Main...   \n",
       "\n",
       "                                  synthetic_negative  \n",
       "0  The Virgin Mary appeared in the sky as the sun...  \n",
       "1  The main building's roof is painted in bright ...  \n",
       "2  The basilica's heart-shaped design was inspire...  \n",
       "3  The grotto was filled with colorful lights and...  \n",
       "4  The main course sits on top of the dining tabl...  "
      ]
     },
     "execution_count": 4,
     "metadata": {},
     "output_type": "execute_result"
    }
   ],
   "source": [
    "# Transform dataset to dataframe\n",
    "synthetic_distilabel_df = ds[\"train\"].to_pandas()\n",
    "\n",
    "# Preview the dataset\n",
    "synthetic_distilabel_df.head()"
   ]
  },
  {
   "cell_type": "markdown",
   "metadata": {},
   "source": [
    "## Use LettuceDetect to detect hallucinations in synthetic data\n",
    "\n",
    "Next, we use `LettuceDetect` to compare the synethically-generated positive answers (`synthetic_positive`) with the `context`, which contains the real answer to the `question`.\n",
    "\n",
    "`LettuceDetect` is a robust open source hallucination detection framework designed specifically for RAG. Built on ModernBERT and hosted on the HuggingFace Model Hub, it identifies hallucinated spans of text in LLM-generated answers."
   ]
  },
  {
   "cell_type": "code",
   "execution_count": 5,
   "metadata": {},
   "outputs": [],
   "source": [
    "# Load the hallucination detector model\n",
    "detector = HallucinationDetector(\n",
    "    method=\"transformer\", model_path=\"KRLabsOrg/lettucedect-base-modernbert-en-v1\"\n",
    ")"
   ]
  },
  {
   "cell_type": "markdown",
   "metadata": {},
   "source": [
    "*Note: This cell can take 30+ minutes to execute.*\n",
    "\n",
    "*The results from this cell have been saved as a dataset on the HuggingFace Hub [here](https://huggingface.co/datasets/m-newhauser/rag-synthetic-distilabel-hallucinations).*"
   ]
  },
  {
   "cell_type": "code",
   "execution_count": 6,
   "metadata": {},
   "outputs": [],
   "source": [
    "# Run over the RAG dataset\n",
    "def predict_hallucinations(row):\n",
    "    predictions = detector.predict(\n",
    "        context=[row['context']],\n",
    "        question=row['anchor'],\n",
    "        answer=row['synthetic_positive'],\n",
    "        output_format=\"spans\"\n",
    "    )\n",
    "    # Assuming predictions is a list of dictionaries\n",
    "    if predictions:\n",
    "        return predictions[0].get('text', ''), predictions[0].get('confidence', 0.0)\n",
    "    return '', ''\n",
    "\n",
    "# Apply the function to each row of the DataFrame\n",
    "synthetic_distilabel_df[['hallucinated_span', 'confidence']] = synthetic_distilabel_df.apply(predict_hallucinations, axis=1, result_type='expand')"
   ]
  },
  {
   "cell_type": "markdown",
   "metadata": {},
   "source": [
    "If you don't want to run the code in the cell above, you can download the dataset with all the hallucination information below:"
   ]
  },
  {
   "cell_type": "code",
   "execution_count": 6,
   "metadata": {},
   "outputs": [],
   "source": [
    "# Optionally load the dataset with the hallucination data from the Hub\n",
    "synthetic_distilabel_hallucinations_df = load_dataset(\"m-newhauser/rag-synthetic-distilabel-hallucinations\")[\"train\"].to_pandas()"
   ]
  },
  {
   "cell_type": "code",
   "execution_count": 7,
   "metadata": {},
   "outputs": [
    {
     "data": {
      "text/html": [
       "<div>\n",
       "<style scoped>\n",
       "    .dataframe tbody tr th:only-of-type {\n",
       "        vertical-align: middle;\n",
       "    }\n",
       "\n",
       "    .dataframe tbody tr th {\n",
       "        vertical-align: top;\n",
       "    }\n",
       "\n",
       "    .dataframe thead th {\n",
       "        text-align: right;\n",
       "    }\n",
       "</style>\n",
       "<table border=\"1\" class=\"dataframe\">\n",
       "  <thead>\n",
       "    <tr style=\"text-align: right;\">\n",
       "      <th></th>\n",
       "      <th>context</th>\n",
       "      <th>anchor</th>\n",
       "      <th>human_positive</th>\n",
       "      <th>synthetic_positive</th>\n",
       "      <th>synthetic_negative</th>\n",
       "      <th>hallucinated_span</th>\n",
       "      <th>confidence</th>\n",
       "    </tr>\n",
       "  </thead>\n",
       "  <tbody>\n",
       "    <tr>\n",
       "      <th>0</th>\n",
       "      <td>Architecturally, the school has a Catholic cha...</td>\n",
       "      <td>To whom did the Virgin Mary allegedly appear i...</td>\n",
       "      <td>Saint Bernadette Soubirous</td>\n",
       "      <td>The Virgin Mary allegedly appeared to Bernadet...</td>\n",
       "      <td>The Virgin Mary appeared in the sky as the sun...</td>\n",
       "      <td></td>\n",
       "      <td>NaN</td>\n",
       "    </tr>\n",
       "    <tr>\n",
       "      <th>1</th>\n",
       "      <td>Architecturally, the school has a Catholic cha...</td>\n",
       "      <td>What is in front of the Notre Dame Main Building?</td>\n",
       "      <td>a copper statue of Christ</td>\n",
       "      <td>In front of the Notre Dame Main Building, you'...</td>\n",
       "      <td>The main building's roof is painted in bright ...</td>\n",
       "      <td></td>\n",
       "      <td>NaN</td>\n",
       "    </tr>\n",
       "    <tr>\n",
       "      <th>2</th>\n",
       "      <td>Architecturally, the school has a Catholic cha...</td>\n",
       "      <td>The Basilica of the Sacred heart at Notre Dame...</td>\n",
       "      <td>the Main Building</td>\n",
       "      <td>The Basilica of the Sacred Heart at Notre Dame...</td>\n",
       "      <td>The basilica's heart-shaped design was inspire...</td>\n",
       "      <td></td>\n",
       "      <td>NaN</td>\n",
       "    </tr>\n",
       "    <tr>\n",
       "      <th>3</th>\n",
       "      <td>Architecturally, the school has a Catholic cha...</td>\n",
       "      <td>What is the Grotto at Notre Dame?</td>\n",
       "      <td>a Marian place of prayer and reflection</td>\n",
       "      <td>The Grotto at Notre Dame is a sacred replica o...</td>\n",
       "      <td>The grotto was filled with colorful lights and...</td>\n",
       "      <td></td>\n",
       "      <td>NaN</td>\n",
       "    </tr>\n",
       "    <tr>\n",
       "      <th>4</th>\n",
       "      <td>Architecturally, the school has a Catholic cha...</td>\n",
       "      <td>What sits on top of the Main Building at Notre...</td>\n",
       "      <td>a golden statue of the Virgin Mary</td>\n",
       "      <td>The iconic Golden Dome sits on top of the Main...</td>\n",
       "      <td>The main course sits on top of the dining tabl...</td>\n",
       "      <td></td>\n",
       "      <td>NaN</td>\n",
       "    </tr>\n",
       "  </tbody>\n",
       "</table>\n",
       "</div>"
      ],
      "text/plain": [
       "                                             context  \\\n",
       "0  Architecturally, the school has a Catholic cha...   \n",
       "1  Architecturally, the school has a Catholic cha...   \n",
       "2  Architecturally, the school has a Catholic cha...   \n",
       "3  Architecturally, the school has a Catholic cha...   \n",
       "4  Architecturally, the school has a Catholic cha...   \n",
       "\n",
       "                                              anchor  \\\n",
       "0  To whom did the Virgin Mary allegedly appear i...   \n",
       "1  What is in front of the Notre Dame Main Building?   \n",
       "2  The Basilica of the Sacred heart at Notre Dame...   \n",
       "3                  What is the Grotto at Notre Dame?   \n",
       "4  What sits on top of the Main Building at Notre...   \n",
       "\n",
       "                            human_positive  \\\n",
       "0               Saint Bernadette Soubirous   \n",
       "1                a copper statue of Christ   \n",
       "2                        the Main Building   \n",
       "3  a Marian place of prayer and reflection   \n",
       "4       a golden statue of the Virgin Mary   \n",
       "\n",
       "                                  synthetic_positive  \\\n",
       "0  The Virgin Mary allegedly appeared to Bernadet...   \n",
       "1  In front of the Notre Dame Main Building, you'...   \n",
       "2  The Basilica of the Sacred Heart at Notre Dame...   \n",
       "3  The Grotto at Notre Dame is a sacred replica o...   \n",
       "4  The iconic Golden Dome sits on top of the Main...   \n",
       "\n",
       "                                  synthetic_negative hallucinated_span  \\\n",
       "0  The Virgin Mary appeared in the sky as the sun...                     \n",
       "1  The main building's roof is painted in bright ...                     \n",
       "2  The basilica's heart-shaped design was inspire...                     \n",
       "3  The grotto was filled with colorful lights and...                     \n",
       "4  The main course sits on top of the dining tabl...                     \n",
       "\n",
       "   confidence  \n",
       "0         NaN  \n",
       "1         NaN  \n",
       "2         NaN  \n",
       "3         NaN  \n",
       "4         NaN  "
      ]
     },
     "execution_count": 7,
     "metadata": {},
     "output_type": "execute_result"
    }
   ],
   "source": [
    "# Preview the dataframe\n",
    "synthetic_distilabel_hallucinations_df.head()"
   ]
  },
  {
   "cell_type": "markdown",
   "metadata": {},
   "source": [
    "### Analyze hallucinations"
   ]
  },
  {
   "cell_type": "markdown",
   "metadata": {},
   "source": [
    "#### Confidence threshold anaylsis\n",
    "\n",
    "Not all rows in the `hallucinated_spans` column are actually hallucinations, which is why LettuceDetect includes a confidence score. Below, we plot the distribution of scores to help us select a threshold."
   ]
  },
  {
   "cell_type": "code",
   "execution_count": 8,
   "metadata": {},
   "outputs": [
    {
     "data": {
      "application/vnd.plotly.v1+json": {
       "config": {
        "plotlyServerURL": "https://plot.ly"
       },
       "data": [
        {
         "bingroup": "x",
         "hovertemplate": "confidence=%{x}<br>count=%{y}<extra></extra>",
         "legendgroup": "",
         "marker": {
          "color": "#636efa",
          "pattern": {
           "shape": ""
          }
         },
         "name": "",
         "nbinsx": 50,
         "orientation": "v",
         "showlegend": false,
         "type": "histogram",
         "x": {
          "bdata": "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",
          "dtype": "f8"
         },
         "xaxis": "x",
         "yaxis": "y"
        }
       ],
       "layout": {
        "bargap": 0.2,
        "barmode": "relative",
        "legend": {
         "tracegroupgap": 0
        },
        "template": {
         "data": {
          "bar": [
           {
            "error_x": {
             "color": "#2a3f5f"
            },
            "error_y": {
             "color": "#2a3f5f"
            },
            "marker": {
             "line": {
              "color": "#E5ECF6",
              "width": 0.5
             },
             "pattern": {
              "fillmode": "overlay",
              "size": 10,
              "solidity": 0.2
             }
            },
            "type": "bar"
           }
          ],
          "barpolar": [
           {
            "marker": {
             "line": {
              "color": "#E5ECF6",
              "width": 0.5
             },
             "pattern": {
              "fillmode": "overlay",
              "size": 10,
              "solidity": 0.2
             }
            },
            "type": "barpolar"
           }
          ],
          "carpet": [
           {
            "aaxis": {
             "endlinecolor": "#2a3f5f",
             "gridcolor": "white",
             "linecolor": "white",
             "minorgridcolor": "white",
             "startlinecolor": "#2a3f5f"
            },
            "baxis": {
             "endlinecolor": "#2a3f5f",
             "gridcolor": "white",
             "linecolor": "white",
             "minorgridcolor": "white",
             "startlinecolor": "#2a3f5f"
            },
            "type": "carpet"
           }
          ],
          "choropleth": [
           {
            "colorbar": {
             "outlinewidth": 0,
             "ticks": ""
            },
            "type": "choropleth"
           }
          ],
          "contour": [
           {
            "colorbar": {
             "outlinewidth": 0,
             "ticks": ""
            },
            "colorscale": [
             [
              0,
              "#0d0887"
             ],
             [
              0.1111111111111111,
              "#46039f"
             ],
             [
              0.2222222222222222,
              "#7201a8"
             ],
             [
              0.3333333333333333,
              "#9c179e"
             ],
             [
              0.4444444444444444,
              "#bd3786"
             ],
             [
              0.5555555555555556,
              "#d8576b"
             ],
             [
              0.6666666666666666,
              "#ed7953"
             ],
             [
              0.7777777777777778,
              "#fb9f3a"
             ],
             [
              0.8888888888888888,
              "#fdca26"
             ],
             [
              1,
              "#f0f921"
             ]
            ],
            "type": "contour"
           }
          ],
          "contourcarpet": [
           {
            "colorbar": {
             "outlinewidth": 0,
             "ticks": ""
            },
            "type": "contourcarpet"
           }
          ],
          "heatmap": [
           {
            "colorbar": {
             "outlinewidth": 0,
             "ticks": ""
            },
            "colorscale": [
             [
              0,
              "#0d0887"
             ],
             [
              0.1111111111111111,
              "#46039f"
             ],
             [
              0.2222222222222222,
              "#7201a8"
             ],
             [
              0.3333333333333333,
              "#9c179e"
             ],
             [
              0.4444444444444444,
              "#bd3786"
             ],
             [
              0.5555555555555556,
              "#d8576b"
             ],
             [
              0.6666666666666666,
              "#ed7953"
             ],
             [
              0.7777777777777778,
              "#fb9f3a"
             ],
             [
              0.8888888888888888,
              "#fdca26"
             ],
             [
              1,
              "#f0f921"
             ]
            ],
            "type": "heatmap"
           }
          ],
          "histogram": [
           {
            "marker": {
             "pattern": {
              "fillmode": "overlay",
              "size": 10,
              "solidity": 0.2
             }
            },
            "type": "histogram"
           }
          ],
          "histogram2d": [
           {
            "colorbar": {
             "outlinewidth": 0,
             "ticks": ""
            },
            "colorscale": [
             [
              0,
              "#0d0887"
             ],
             [
              0.1111111111111111,
              "#46039f"
             ],
             [
              0.2222222222222222,
              "#7201a8"
             ],
             [
              0.3333333333333333,
              "#9c179e"
             ],
             [
              0.4444444444444444,
              "#bd3786"
             ],
             [
              0.5555555555555556,
              "#d8576b"
             ],
             [
              0.6666666666666666,
              "#ed7953"
             ],
             [
              0.7777777777777778,
              "#fb9f3a"
             ],
             [
              0.8888888888888888,
              "#fdca26"
             ],
             [
              1,
              "#f0f921"
             ]
            ],
            "type": "histogram2d"
           }
          ],
          "histogram2dcontour": [
           {
            "colorbar": {
             "outlinewidth": 0,
             "ticks": ""
            },
            "colorscale": [
             [
              0,
              "#0d0887"
             ],
             [
              0.1111111111111111,
              "#46039f"
             ],
             [
              0.2222222222222222,
              "#7201a8"
             ],
             [
              0.3333333333333333,
              "#9c179e"
             ],
             [
              0.4444444444444444,
              "#bd3786"
             ],
             [
              0.5555555555555556,
              "#d8576b"
             ],
             [
              0.6666666666666666,
              "#ed7953"
             ],
             [
              0.7777777777777778,
              "#fb9f3a"
             ],
             [
              0.8888888888888888,
              "#fdca26"
             ],
             [
              1,
              "#f0f921"
             ]
            ],
            "type": "histogram2dcontour"
           }
          ],
          "mesh3d": [
           {
            "colorbar": {
             "outlinewidth": 0,
             "ticks": ""
            },
            "type": "mesh3d"
           }
          ],
          "parcoords": [
           {
            "line": {
             "colorbar": {
              "outlinewidth": 0,
              "ticks": ""
             }
            },
            "type": "parcoords"
           }
          ],
          "pie": [
           {
            "automargin": true,
            "type": "pie"
           }
          ],
          "scatter": [
           {
            "fillpattern": {
             "fillmode": "overlay",
             "size": 10,
             "solidity": 0.2
            },
            "type": "scatter"
           }
          ],
          "scatter3d": [
           {
            "line": {
             "colorbar": {
              "outlinewidth": 0,
              "ticks": ""
             }
            },
            "marker": {
             "colorbar": {
              "outlinewidth": 0,
              "ticks": ""
             }
            },
            "type": "scatter3d"
           }
          ],
          "scattercarpet": [
           {
            "marker": {
             "colorbar": {
              "outlinewidth": 0,
              "ticks": ""
             }
            },
            "type": "scattercarpet"
           }
          ],
          "scattergeo": [
           {
            "marker": {
             "colorbar": {
              "outlinewidth": 0,
              "ticks": ""
             }
            },
            "type": "scattergeo"
           }
          ],
          "scattergl": [
           {
            "marker": {
             "colorbar": {
              "outlinewidth": 0,
              "ticks": ""
             }
            },
            "type": "scattergl"
           }
          ],
          "scattermap": [
           {
            "marker": {
             "colorbar": {
              "outlinewidth": 0,
              "ticks": ""
             }
            },
            "type": "scattermap"
           }
          ],
          "scattermapbox": [
           {
            "marker": {
             "colorbar": {
              "outlinewidth": 0,
              "ticks": ""
             }
            },
            "type": "scattermapbox"
           }
          ],
          "scatterpolar": [
           {
            "marker": {
             "colorbar": {
              "outlinewidth": 0,
              "ticks": ""
             }
            },
            "type": "scatterpolar"
           }
          ],
          "scatterpolargl": [
           {
            "marker": {
             "colorbar": {
              "outlinewidth": 0,
              "ticks": ""
             }
            },
            "type": "scatterpolargl"
           }
          ],
          "scatterternary": [
           {
            "marker": {
             "colorbar": {
              "outlinewidth": 0,
              "ticks": ""
             }
            },
            "type": "scatterternary"
           }
          ],
          "surface": [
           {
            "colorbar": {
             "outlinewidth": 0,
             "ticks": ""
            },
            "colorscale": [
             [
              0,
              "#0d0887"
             ],
             [
              0.1111111111111111,
              "#46039f"
             ],
             [
              0.2222222222222222,
              "#7201a8"
             ],
             [
              0.3333333333333333,
              "#9c179e"
             ],
             [
              0.4444444444444444,
              "#bd3786"
             ],
             [
              0.5555555555555556,
              "#d8576b"
             ],
             [
              0.6666666666666666,
              "#ed7953"
             ],
             [
              0.7777777777777778,
              "#fb9f3a"
             ],
             [
              0.8888888888888888,
              "#fdca26"
             ],
             [
              1,
              "#f0f921"
             ]
            ],
            "type": "surface"
           }
          ],
          "table": [
           {
            "cells": {
             "fill": {
              "color": "#EBF0F8"
             },
             "line": {
              "color": "white"
             }
            },
            "header": {
             "fill": {
              "color": "#C8D4E3"
             },
             "line": {
              "color": "white"
             }
            },
            "type": "table"
           }
          ]
         },
         "layout": {
          "annotationdefaults": {
           "arrowcolor": "#2a3f5f",
           "arrowhead": 0,
           "arrowwidth": 1
          },
          "autotypenumbers": "strict",
          "coloraxis": {
           "colorbar": {
            "outlinewidth": 0,
            "ticks": ""
           }
          },
          "colorscale": {
           "diverging": [
            [
             0,
             "#8e0152"
            ],
            [
             0.1,
             "#c51b7d"
            ],
            [
             0.2,
             "#de77ae"
            ],
            [
             0.3,
             "#f1b6da"
            ],
            [
             0.4,
             "#fde0ef"
            ],
            [
             0.5,
             "#f7f7f7"
            ],
            [
             0.6,
             "#e6f5d0"
            ],
            [
             0.7,
             "#b8e186"
            ],
            [
             0.8,
             "#7fbc41"
            ],
            [
             0.9,
             "#4d9221"
            ],
            [
             1,
             "#276419"
            ]
           ],
           "sequential": [
            [
             0,
             "#0d0887"
            ],
            [
             0.1111111111111111,
             "#46039f"
            ],
            [
             0.2222222222222222,
             "#7201a8"
            ],
            [
             0.3333333333333333,
             "#9c179e"
            ],
            [
             0.4444444444444444,
             "#bd3786"
            ],
            [
             0.5555555555555556,
             "#d8576b"
            ],
            [
             0.6666666666666666,
             "#ed7953"
            ],
            [
             0.7777777777777778,
             "#fb9f3a"
            ],
            [
             0.8888888888888888,
             "#fdca26"
            ],
            [
             1,
             "#f0f921"
            ]
           ],
           "sequentialminus": [
            [
             0,
             "#0d0887"
            ],
            [
             0.1111111111111111,
             "#46039f"
            ],
            [
             0.2222222222222222,
             "#7201a8"
            ],
            [
             0.3333333333333333,
             "#9c179e"
            ],
            [
             0.4444444444444444,
             "#bd3786"
            ],
            [
             0.5555555555555556,
             "#d8576b"
            ],
            [
             0.6666666666666666,
             "#ed7953"
            ],
            [
             0.7777777777777778,
             "#fb9f3a"
            ],
            [
             0.8888888888888888,
             "#fdca26"
            ],
            [
             1,
             "#f0f921"
            ]
           ]
          },
          "colorway": [
           "#636efa",
           "#EF553B",
           "#00cc96",
           "#ab63fa",
           "#FFA15A",
           "#19d3f3",
           "#FF6692",
           "#B6E880",
           "#FF97FF",
           "#FECB52"
          ],
          "font": {
           "color": "#2a3f5f"
          },
          "geo": {
           "bgcolor": "white",
           "lakecolor": "white",
           "landcolor": "#E5ECF6",
           "showlakes": true,
           "showland": true,
           "subunitcolor": "white"
          },
          "hoverlabel": {
           "align": "left"
          },
          "hovermode": "closest",
          "mapbox": {
           "style": "light"
          },
          "paper_bgcolor": "white",
          "plot_bgcolor": "#E5ECF6",
          "polar": {
           "angularaxis": {
            "gridcolor": "white",
            "linecolor": "white",
            "ticks": ""
           },
           "bgcolor": "#E5ECF6",
           "radialaxis": {
            "gridcolor": "white",
            "linecolor": "white",
            "ticks": ""
           }
          },
          "scene": {
           "xaxis": {
            "backgroundcolor": "#E5ECF6",
            "gridcolor": "white",
            "gridwidth": 2,
            "linecolor": "white",
            "showbackground": true,
            "ticks": "",
            "zerolinecolor": "white"
           },
           "yaxis": {
            "backgroundcolor": "#E5ECF6",
            "gridcolor": "white",
            "gridwidth": 2,
            "linecolor": "white",
            "showbackground": true,
            "ticks": "",
            "zerolinecolor": "white"
           },
           "zaxis": {
            "backgroundcolor": "#E5ECF6",
            "gridcolor": "white",
            "gridwidth": 2,
            "linecolor": "white",
            "showbackground": true,
            "ticks": "",
            "zerolinecolor": "white"
           }
          },
          "shapedefaults": {
           "line": {
            "color": "#2a3f5f"
           }
          },
          "ternary": {
           "aaxis": {
            "gridcolor": "white",
            "linecolor": "white",
            "ticks": ""
           },
           "baxis": {
            "gridcolor": "white",
            "linecolor": "white",
            "ticks": ""
           },
           "bgcolor": "#E5ECF6",
           "caxis": {
            "gridcolor": "white",
            "linecolor": "white",
            "ticks": ""
           }
          },
          "title": {
           "x": 0.05
          },
          "xaxis": {
           "automargin": true,
           "gridcolor": "white",
           "linecolor": "white",
           "ticks": "",
           "title": {
            "standoff": 15
           },
           "zerolinecolor": "white",
           "zerolinewidth": 2
          },
          "yaxis": {
           "automargin": true,
           "gridcolor": "white",
           "linecolor": "white",
           "ticks": "",
           "title": {
            "standoff": 15
           },
           "zerolinecolor": "white",
           "zerolinewidth": 2
          }
         }
        },
        "title": {
         "text": "Distribution of Confidence Scores",
         "x": 0.5,
         "y": 0.95
        },
        "width": 800,
        "xaxis": {
         "anchor": "y",
         "domain": [
          0,
          1
         ],
         "title": {
          "text": "Confidence Score"
         }
        },
        "yaxis": {
         "anchor": "x",
         "domain": [
          0,
          1
         ],
         "title": {
          "text": "Count"
         }
        }
       }
      }
     },
     "metadata": {},
     "output_type": "display_data"
    }
   ],
   "source": [
    "# Plot the distribution of confidence scores\n",
    "fig = px.histogram(synthetic_distilabel_hallucinations_df, x=\"confidence\", title=\"Distribution of Confidence Scores\", nbins=50)\n",
    "\n",
    "fig.update_layout(\n",
    "    xaxis_title=\"Confidence Score\",\n",
    "    yaxis_title=\"Count\",\n",
    "    bargap=0.2,\n",
    "    title_x=0.5,\n",
    "    title_y=0.95,\n",
    "    # Adjust width\n",
    "    width=800,\n",
    ")\n",
    "\n",
    "# Show the plot\n",
    "fig.show()"
   ]
  },
  {
   "cell_type": "markdown",
   "metadata": {},
   "source": [
    "Let's set our threshold for classifying a response as a hallucination at `0.9`."
   ]
  },
  {
   "cell_type": "code",
   "execution_count": 9,
   "metadata": {},
   "outputs": [],
   "source": [
    "# Manually set threshold\n",
    "threshold = 0.9\n",
    "\n",
    "# Filter the DataFrame for hallucinations based on the threshold\n",
    "hallucinations_df = (\n",
    "    synthetic_distilabel_hallucinations_df\n",
    "    .query(\"confidence != ''\")\n",
    "    .query(f\"confidence >= {threshold}\")\n",
    ")"
   ]
  },
  {
   "cell_type": "markdown",
   "metadata": {},
   "source": [
    "Now calculate the number of hallucinations detected in the entire dataset and the hallucination rate."
   ]
  },
  {
   "cell_type": "code",
   "execution_count": 10,
   "metadata": {},
   "outputs": [
    {
     "name": "stdout",
     "output_type": "stream",
     "text": [
      "Total hallucinations detected: 2152 (43.13%)\n"
     ]
    }
   ],
   "source": [
    "# Print the number of hallucinations\n",
    "print(f\"Total hallucinations detected: {hallucinations_df.shape[0]} ({hallucinations_df.shape[0]/synthetic_distilabel_df.shape[0] * 100:.2f}%)\")"
   ]
  },
  {
   "cell_type": "markdown",
   "metadata": {},
   "source": [
    "The number of detected hallucations at our threshold is staggeringly high!"
   ]
  },
  {
   "cell_type": "markdown",
   "metadata": {},
   "source": [
    "#### Inspect some hallucinations\n",
    "Let's take a look at some specific examples of hallucinations regarding a popular topic: Beyonce. 👑 🐝"
   ]
  },
  {
   "cell_type": "code",
   "execution_count": 11,
   "metadata": {},
   "outputs": [
    {
     "data": {
      "text/html": [
       "<div>\n",
       "<style scoped>\n",
       "    .dataframe tbody tr th:only-of-type {\n",
       "        vertical-align: middle;\n",
       "    }\n",
       "\n",
       "    .dataframe tbody tr th {\n",
       "        vertical-align: top;\n",
       "    }\n",
       "\n",
       "    .dataframe thead th {\n",
       "        text-align: right;\n",
       "    }\n",
       "</style>\n",
       "<table border=\"1\" class=\"dataframe\">\n",
       "  <thead>\n",
       "    <tr style=\"text-align: right;\">\n",
       "      <th></th>\n",
       "      <th>context</th>\n",
       "      <th>anchor</th>\n",
       "      <th>human_positive</th>\n",
       "      <th>synthetic_positive</th>\n",
       "      <th>synthetic_negative</th>\n",
       "      <th>hallucinated_span</th>\n",
       "      <th>confidence</th>\n",
       "    </tr>\n",
       "  </thead>\n",
       "  <tbody>\n",
       "    <tr>\n",
       "      <th>610</th>\n",
       "      <td>In August, the couple attended the 2011 MTV Vi...</td>\n",
       "      <td>Beyonce confirmed what after performing one of...</td>\n",
       "      <td>her pregnancy</td>\n",
       "      <td>Beyonce confirmed that her new album would be ...</td>\n",
       "      <td>Beyonce was spotted shopping for new outfits i...</td>\n",
       "      <td>Beyonce confirmed that her new album would be ...</td>\n",
       "      <td>0.999672</td>\n",
       "    </tr>\n",
       "    <tr>\n",
       "      <th>612</th>\n",
       "      <td>In August, the couple attended the 2011 MTV Vi...</td>\n",
       "      <td>Where did she announce her pregnancy?</td>\n",
       "      <td>2011 MTV Video Music Awards</td>\n",
       "      <td>She announced her pregnancy at a family gather...</td>\n",
       "      <td>She announced a new job opportunity during the...</td>\n",
       "      <td>She announced her pregnancy at a family gather...</td>\n",
       "      <td>0.992555</td>\n",
       "    </tr>\n",
       "    <tr>\n",
       "      <th>613</th>\n",
       "      <td>In August, the couple attended the 2011 MTV Vi...</td>\n",
       "      <td>Why was the broadcast the most-watched in hist...</td>\n",
       "      <td>Her appearance</td>\n",
       "      <td>The broadcast was the most-watched in history ...</td>\n",
       "      <td>The most-watched broadcast in history happened...</td>\n",
       "      <td>highly anticipated event that captivated audi...</td>\n",
       "      <td>0.974278</td>\n",
       "    </tr>\n",
       "    <tr>\n",
       "      <th>614</th>\n",
       "      <td>In August, the couple attended the 2011 MTV Vi...</td>\n",
       "      <td>What even was recorded in the Guinness World R...</td>\n",
       "      <td>most tweets per second</td>\n",
       "      <td>The tallest man ever recorded was Robert Wadlo...</td>\n",
       "      <td>The book on the shelf was covered in dust and ...</td>\n",
       "      <td>The tallest man ever recorded was Robert Wadlo...</td>\n",
       "      <td>0.999291</td>\n",
       "    </tr>\n",
       "    <tr>\n",
       "      <th>615</th>\n",
       "      <td>In August, the couple attended the 2011 MTV Vi...</td>\n",
       "      <td>What was the most searched term in week of Aug...</td>\n",
       "      <td>Beyonce pregnant</td>\n",
       "      <td>The most searched term in the week of August 2...</td>\n",
       "      <td>The most searched term in the week of August 2...</td>\n",
       "      <td>The most searched term in the week of August 2...</td>\n",
       "      <td>0.997824</td>\n",
       "    </tr>\n",
       "    <tr>\n",
       "      <th>616</th>\n",
       "      <td>In August, the couple attended the 2011 MTV Vi...</td>\n",
       "      <td>What song did she perform at the MTV Awards?</td>\n",
       "      <td>Love on Top</td>\n",
       "      <td>She performed her hit single \"Midnight Dreams\"...</td>\n",
       "      <td>The song has a catchy beat and was released la...</td>\n",
       "      <td>She performed her hit single \"Midnight Dreams\"...</td>\n",
       "      <td>0.999407</td>\n",
       "    </tr>\n",
       "  </tbody>\n",
       "</table>\n",
       "</div>"
      ],
      "text/plain": [
       "                                               context  \\\n",
       "610  In August, the couple attended the 2011 MTV Vi...   \n",
       "612  In August, the couple attended the 2011 MTV Vi...   \n",
       "613  In August, the couple attended the 2011 MTV Vi...   \n",
       "614  In August, the couple attended the 2011 MTV Vi...   \n",
       "615  In August, the couple attended the 2011 MTV Vi...   \n",
       "616  In August, the couple attended the 2011 MTV Vi...   \n",
       "\n",
       "                                                anchor  \\\n",
       "610  Beyonce confirmed what after performing one of...   \n",
       "612              Where did she announce her pregnancy?   \n",
       "613  Why was the broadcast the most-watched in hist...   \n",
       "614  What even was recorded in the Guinness World R...   \n",
       "615  What was the most searched term in week of Aug...   \n",
       "616       What song did she perform at the MTV Awards?   \n",
       "\n",
       "                  human_positive  \\\n",
       "610                her pregnancy   \n",
       "612  2011 MTV Video Music Awards   \n",
       "613               Her appearance   \n",
       "614       most tweets per second   \n",
       "615             Beyonce pregnant   \n",
       "616                  Love on Top   \n",
       "\n",
       "                                    synthetic_positive  \\\n",
       "610  Beyonce confirmed that her new album would be ...   \n",
       "612  She announced her pregnancy at a family gather...   \n",
       "613  The broadcast was the most-watched in history ...   \n",
       "614  The tallest man ever recorded was Robert Wadlo...   \n",
       "615  The most searched term in the week of August 2...   \n",
       "616  She performed her hit single \"Midnight Dreams\"...   \n",
       "\n",
       "                                    synthetic_negative  \\\n",
       "610  Beyonce was spotted shopping for new outfits i...   \n",
       "612  She announced a new job opportunity during the...   \n",
       "613  The most-watched broadcast in history happened...   \n",
       "614  The book on the shelf was covered in dust and ...   \n",
       "615  The most searched term in the week of August 2...   \n",
       "616  The song has a catchy beat and was released la...   \n",
       "\n",
       "                                     hallucinated_span  confidence  \n",
       "610  Beyonce confirmed that her new album would be ...    0.999672  \n",
       "612  She announced her pregnancy at a family gather...    0.992555  \n",
       "613   highly anticipated event that captivated audi...    0.974278  \n",
       "614  The tallest man ever recorded was Robert Wadlo...    0.999291  \n",
       "615  The most searched term in the week of August 2...    0.997824  \n",
       "616  She performed her hit single \"Midnight Dreams\"...    0.999407  "
      ]
     },
     "execution_count": 11,
     "metadata": {},
     "output_type": "execute_result"
    }
   ],
   "source": [
    "# Create a df of hallucations with Beyonce as the topic\n",
    "bey_df = hallucinations_df.query(\"context.str.contains('Beyonce')\").query(\"hallucinated_span != ''\")\n",
    "bey_df"
   ]
  },
  {
   "cell_type": "markdown",
   "metadata": {},
   "source": [
    "Now, let's view it in a more readable form."
   ]
  },
  {
   "cell_type": "code",
   "execution_count": 12,
   "metadata": {},
   "outputs": [
    {
     "name": "stdout",
     "output_type": "stream",
     "text": [
      "Context: In August, the couple attended the 2011 MTV Video Music Awards, at which Beyoncé\n",
      "performed \"Love on Top\" and started the performance saying \"Tonight I want you\n",
      "to stand up on your feet, I want you to feel the love that's growing inside of\n",
      "me\". At the end of the performance, she dropped her microphone, unbuttoned her\n",
      "blazer and rubbed her stomach, confirming her pregnancy she had alluded to\n",
      "earlier in the evening. Her appearance helped that year's MTV Video Music Awards\n",
      "become the most-watched broadcast in MTV history, pulling in 12.4 million\n",
      "viewers; the announcement was listed in Guinness World Records for \"most tweets\n",
      "per second recorded for a single event\" on Twitter, receiving 8,868 tweets per\n",
      "second and \"Beyonce pregnant\" was the most Googled term the week of August 29,\n",
      "2011.\n",
      "---------\n",
      "Anchor: Beyonce confirmed what after performing one of her songs?\n",
      "Human Positive: her pregnancy\n",
      "Hallucinated Span: Beyonce confirmed that her new album would be released next month after performing one of her songs.\n",
      "---------\n",
      "Anchor: Where did she announce her pregnancy?\n",
      "Human Positive: 2011 MTV Video Music Awards\n",
      "Hallucinated Span: She announced her pregnancy at a family gathering last weekend.\n",
      "---------\n",
      "Anchor: Why was the broadcast the most-watched in history?\n",
      "Human Positive: Her appearance\n",
      "Hallucinated Span:  highly anticipated event that captivated audiences worldwide, breaking previous viewership records.\n",
      "---------\n",
      "Anchor: What even was recorded in the Guinness World Records?\n",
      "Human Positive: most tweets per second\n",
      "Hallucinated Span: The tallest man ever recorded was Robert Wadlow, who measured 8 feet 11 inches.\n",
      "---------\n"
     ]
    }
   ],
   "source": [
    "# Print Beyonce hallucinations, adding line breaks for readability\n",
    "wrapped_text = textwrap.fill(bey_df['context'].values[0], width=80)  # Adjust width as needed\n",
    "print(f\"Context: {wrapped_text}\")\n",
    "print(\"---------\")\n",
    "\n",
    "for index, row in bey_df.head(4).iterrows():\n",
    "    print(f\"Anchor: {row['anchor']}\")\n",
    "    print(f\"Human Positive: {row['human_positive']}\")\n",
    "    print(f\"Hallucinated Span: {row['hallucinated_span']}\")\n",
    "    print(\"---------\")"
   ]
  },
  {
   "cell_type": "markdown",
   "metadata": {},
   "source": [
    "From these hallucinations, we can clearly tell that the model is not actually using the provided `context` to generate its answers. Instead, it's hallucinating and generating synethic answers based on its parametric memory (the data the model was trained on.)\n",
    "\n",
    "We might expect this type of behavior for a very niche topic that's not well-represented in the training dataset... but Beyonce is SO POPULAR! And this makes the hallucinations especially concerning.\n",
    "\n",
    "This is a problem! For which we have a solution."
   ]
  },
  {
   "cell_type": "markdown",
   "metadata": {},
   "source": [
    "## Use RAG to generate more accurate synthetic data\n",
    "\n",
    "We can use RAG to reduce hallucinations in sythetically-generated data. Instead of giving the LLM the context and the question and **hoping** that it generates the right answer, we can instruct it to generate its answer based on the context itself."
   ]
  },
  {
   "cell_type": "markdown",
   "metadata": {},
   "source": [
    "### Vanilla RAG pipeline (LangChain + FAISS + OpenAI)\n",
    "\n",
    "This Langchain RAG pipeline first constructs a [FAISS](https://github.com/facebookresearch/faiss) vector store from provided text contexts by embedding them with OpenAI's embeddings. Then, it uses Langchain's RetrievalQA chain, configured with an OpenAI LLM and a retriever based on the vector store, to generate answers for a list of input questions.\n",
    "\n",
    "The block below runs the RAG pipeline over the entire dataset of hallucinated answers from Distilabel. To avoid unnecessary inference costs, we save the output from this code to the HuggingFace Hub [here]."
   ]
  },
  {
   "cell_type": "code",
   "execution_count": 16,
   "metadata": {},
   "outputs": [],
   "source": [
    "# Set your OpenAI API key directly (not recommended for production)\n",
    "openai.api_key = os.environ.get(\"OPENAI_API_KEY\")\n",
    "\n",
    "if not openai.api_key:\n",
    "    raise EnvironmentError(\n",
    "        \"The OPENAI_API_KEY environment variable is not set. \"\n",
    "        \"Please define it before running this script.\"\n",
    "    )\n",
    "\n",
    "# Format the context and anchor for LettuceDetect\n",
    "contexts = hallucinations_df[\"context\"].drop_duplicates().tolist()\n",
    "anchors = hallucinations_df[\"anchor\"].drop_duplicates().tolist()\n",
    "human_positives = hallucinations_df[\"human_positive\"].drop_duplicates().tolist()\n",
    "\n",
    "# Create a vectorstore from the contexts\n",
    "docs = [Document(page_content=ctx) for ctx in contexts]\n",
    "embedding = OpenAIEmbeddings()\n",
    "vectorstore = FAISS.from_documents(docs, embedding)\n",
    "\n",
    "# Create a retriever + QA chain\n",
    "retriever = vectorstore.as_retriever(search_kwargs={\"k\": 1})\n",
    "qa = RetrievalQA.from_chain_type(llm=OpenAI(), retriever=retriever)\n",
    "\n",
    "# Run the RAG pipeline\n",
    "rag_answers = [qa.run(a) for a in anchors]\n",
    "\n",
    "# Put the answers into a dataframe\n",
    "rag_df = pd.DataFrame({\n",
    "    \"context\": [contexts] * len(anchors),\n",
    "    \"question\": anchors,\n",
    "    \"human_positive\": human_positives,\n",
    "    \"rag_positive\": rag_answers,\n",
    "})"
   ]
  },
  {
   "cell_type": "markdown",
   "metadata": {},
   "source": [
    "### Analyze hallucinations\n",
    "Now, let's check them for hallucinations using LettuceDetect.\n",
    "\n",
    "This code will also take a while to execute. So we can optionally load the output of this code that was saved to Hub."
   ]
  },
  {
   "cell_type": "code",
   "execution_count": null,
   "metadata": {},
   "outputs": [],
   "source": [
    "# Run over the RAG dataset\n",
    "def predict_hallucinations(row):\n",
    "    predictions = detector.predict(\n",
    "        context=[row['context']],\n",
    "        question=row['question'],\n",
    "        answer=row['rag_positive'],\n",
    "        output_format=\"spans\"\n",
    "    )\n",
    "    # Assuming predictions is a list of dictionaries\n",
    "    if predictions:\n",
    "        return predictions[0].get('text', ''), predictions[0].get('confidence', 0.0)\n",
    "    return '', ''\n",
    "\n",
    "# Apply the function to each row of the DataFrame\n",
    "rag_df[['hallucinated_span', 'confidence']] = rag_df.apply(predict_hallucinations, axis=1, result_type='expand')\n",
    "rag_df"
   ]
  },
  {
   "cell_type": "code",
   "execution_count": 14,
   "metadata": {},
   "outputs": [],
   "source": [
    "# Optionally load the dataset with the hallucination data from the Hub\n",
    "rag_df = load_dataset(\"m-newhauser/rag4rag-synthetic-hallucinations\")[\"train\"].to_pandas()"
   ]
  },
  {
   "cell_type": "code",
   "execution_count": 15,
   "metadata": {},
   "outputs": [
    {
     "data": {
      "text/html": [
       "<div>\n",
       "<style scoped>\n",
       "    .dataframe tbody tr th:only-of-type {\n",
       "        vertical-align: middle;\n",
       "    }\n",
       "\n",
       "    .dataframe tbody tr th {\n",
       "        vertical-align: top;\n",
       "    }\n",
       "\n",
       "    .dataframe thead th {\n",
       "        text-align: right;\n",
       "    }\n",
       "</style>\n",
       "<table border=\"1\" class=\"dataframe\">\n",
       "  <thead>\n",
       "    <tr style=\"text-align: right;\">\n",
       "      <th></th>\n",
       "      <th>context</th>\n",
       "      <th>question</th>\n",
       "      <th>human_positive</th>\n",
       "      <th>rag_positive</th>\n",
       "      <th>hallucinated_span</th>\n",
       "      <th>confidence</th>\n",
       "    </tr>\n",
       "  </thead>\n",
       "  <tbody>\n",
       "    <tr>\n",
       "      <th>0</th>\n",
       "      <td>As at most other universities, Notre Dame's st...</td>\n",
       "      <td>When did the Scholastic Magazine of Notre dame...</td>\n",
       "      <td>September 1876</td>\n",
       "      <td>September 1876</td>\n",
       "      <td></td>\n",
       "      <td>NaN</td>\n",
       "    </tr>\n",
       "    <tr>\n",
       "      <th>1</th>\n",
       "      <td>The university is the major seat of the Congre...</td>\n",
       "      <td>What is the primary seminary of the Congregati...</td>\n",
       "      <td>Moreau Seminary</td>\n",
       "      <td>Moreau Seminary</td>\n",
       "      <td></td>\n",
       "      <td>NaN</td>\n",
       "    </tr>\n",
       "    <tr>\n",
       "      <th>2</th>\n",
       "      <td>The university is the major seat of the Congre...</td>\n",
       "      <td>What is the oldest structure at Notre Dame?</td>\n",
       "      <td>Old College</td>\n",
       "      <td>The oldest structure at Notre Dame is the Old ...</td>\n",
       "      <td></td>\n",
       "      <td>NaN</td>\n",
       "    </tr>\n",
       "    <tr>\n",
       "      <th>3</th>\n",
       "      <td>The university is the major seat of the Congre...</td>\n",
       "      <td>Which prize did Frederick Buechner create?</td>\n",
       "      <td>Buechner Prize for Preaching</td>\n",
       "      <td>The National Book Award.</td>\n",
       "      <td>The National Book Award.</td>\n",
       "      <td>0.989379</td>\n",
       "    </tr>\n",
       "    <tr>\n",
       "      <th>4</th>\n",
       "      <td>The College of Engineering was established in ...</td>\n",
       "      <td>In what year was the College of Engineering at...</td>\n",
       "      <td>1920</td>\n",
       "      <td>1921</td>\n",
       "      <td>1921</td>\n",
       "      <td>0.983793</td>\n",
       "    </tr>\n",
       "  </tbody>\n",
       "</table>\n",
       "</div>"
      ],
      "text/plain": [
       "                                             context  \\\n",
       "0  As at most other universities, Notre Dame's st...   \n",
       "1  The university is the major seat of the Congre...   \n",
       "2  The university is the major seat of the Congre...   \n",
       "3  The university is the major seat of the Congre...   \n",
       "4  The College of Engineering was established in ...   \n",
       "\n",
       "                                            question  \\\n",
       "0  When did the Scholastic Magazine of Notre dame...   \n",
       "1  What is the primary seminary of the Congregati...   \n",
       "2        What is the oldest structure at Notre Dame?   \n",
       "3         Which prize did Frederick Buechner create?   \n",
       "4  In what year was the College of Engineering at...   \n",
       "\n",
       "                 human_positive  \\\n",
       "0                September 1876   \n",
       "1               Moreau Seminary   \n",
       "2                   Old College   \n",
       "3  Buechner Prize for Preaching   \n",
       "4                          1920   \n",
       "\n",
       "                                        rag_positive  \\\n",
       "0                                     September 1876   \n",
       "1                                    Moreau Seminary   \n",
       "2  The oldest structure at Notre Dame is the Old ...   \n",
       "3                           The National Book Award.   \n",
       "4                                               1921   \n",
       "\n",
       "          hallucinated_span  confidence  \n",
       "0                                   NaN  \n",
       "1                                   NaN  \n",
       "2                                   NaN  \n",
       "3  The National Book Award.    0.989379  \n",
       "4                      1921    0.983793  "
      ]
     },
     "execution_count": 15,
     "metadata": {},
     "output_type": "execute_result"
    }
   ],
   "source": [
    "# Preview the data\n",
    "rag_df.head()"
   ]
  },
  {
   "cell_type": "markdown",
   "metadata": {},
   "source": [
    "#### Inspect some hallucinations\n",
    "Let's see how RAG did generating answers for the Beyonce questions."
   ]
  },
  {
   "cell_type": "code",
   "execution_count": 16,
   "metadata": {},
   "outputs": [
    {
     "data": {
      "text/html": [
       "<div>\n",
       "<style scoped>\n",
       "    .dataframe tbody tr th:only-of-type {\n",
       "        vertical-align: middle;\n",
       "    }\n",
       "\n",
       "    .dataframe tbody tr th {\n",
       "        vertical-align: top;\n",
       "    }\n",
       "\n",
       "    .dataframe thead th {\n",
       "        text-align: right;\n",
       "    }\n",
       "</style>\n",
       "<table border=\"1\" class=\"dataframe\">\n",
       "  <thead>\n",
       "    <tr style=\"text-align: right;\">\n",
       "      <th></th>\n",
       "      <th>context</th>\n",
       "      <th>question</th>\n",
       "      <th>human_positive</th>\n",
       "      <th>rag_positive</th>\n",
       "      <th>hallucinated_span</th>\n",
       "      <th>confidence</th>\n",
       "    </tr>\n",
       "  </thead>\n",
       "  <tbody>\n",
       "    <tr>\n",
       "      <th>194</th>\n",
       "      <td>In August, the couple attended the 2011 MTV Vi...</td>\n",
       "      <td>Beyonce confirmed what after performing one of...</td>\n",
       "      <td>her pregnancy</td>\n",
       "      <td>She confirmed that she would perform alongside...</td>\n",
       "      <td>She confirmed that she would perform alongside...</td>\n",
       "      <td>0.999331</td>\n",
       "    </tr>\n",
       "    <tr>\n",
       "      <th>197</th>\n",
       "      <td>In August, the couple attended the 2011 MTV Vi...</td>\n",
       "      <td>What even was recorded in the Guinness World R...</td>\n",
       "      <td>most tweets per second</td>\n",
       "      <td>The earliest recording of Chopin's works was a...</td>\n",
       "      <td>The earliest recording of Chopin's works was a...</td>\n",
       "      <td>0.999022</td>\n",
       "    </tr>\n",
       "  </tbody>\n",
       "</table>\n",
       "</div>"
      ],
      "text/plain": [
       "                                               context  \\\n",
       "194  In August, the couple attended the 2011 MTV Vi...   \n",
       "197  In August, the couple attended the 2011 MTV Vi...   \n",
       "\n",
       "                                              question  \\\n",
       "194  Beyonce confirmed what after performing one of...   \n",
       "197  What even was recorded in the Guinness World R...   \n",
       "\n",
       "             human_positive  \\\n",
       "194           her pregnancy   \n",
       "197  most tweets per second   \n",
       "\n",
       "                                          rag_positive  \\\n",
       "194  She confirmed that she would perform alongside...   \n",
       "197  The earliest recording of Chopin's works was a...   \n",
       "\n",
       "                                     hallucinated_span  confidence  \n",
       "194  She confirmed that she would perform alongside...    0.999331  \n",
       "197  The earliest recording of Chopin's works was a...    0.999022  "
      ]
     },
     "execution_count": 16,
     "metadata": {},
     "output_type": "execute_result"
    }
   ],
   "source": [
    "# Create a df of hallucations with Beyonce as the topic\n",
    "bey_df = rag_df.query(\"context.str.contains('Beyonce')\").query(\"hallucinated_span != ''\")\n",
    "bey_df"
   ]
  },
  {
   "cell_type": "markdown",
   "metadata": {},
   "source": [
    "The number of hallucinated answers is reduced from 6 to 2! This is a significant improvement but also slightly concerning that hallucinations are happening even when using RAG."
   ]
  },
  {
   "cell_type": "markdown",
   "metadata": {},
   "source": [
    "## Compare approaches"
   ]
  },
  {
   "cell_type": "code",
   "execution_count": 17,
   "metadata": {},
   "outputs": [],
   "source": [
    "# Subset remaining hallucinations from RAG generated answers\n",
    "rag_hallucinations_df = rag_df.query(\"confidence != ''\").query(f\"confidence >= {threshold}\")"
   ]
  },
  {
   "cell_type": "code",
   "execution_count": 18,
   "metadata": {},
   "outputs": [
    {
     "name": "stdout",
     "output_type": "stream",
     "text": [
      "Synthetic Distilabel Dataset\n",
      "Dataset size: 4989\n",
      "Total hallucinations detected: 2152 (43.13%)\n"
     ]
    }
   ],
   "source": [
    "print(\"Synthetic Distilabel Dataset\")\n",
    "print(f\"Dataset size: {synthetic_distilabel_df.shape[0]}\")\n",
    "print(f\"Total hallucinations detected: {hallucinations_df.shape[0]} ({hallucinations_df.shape[0]/synthetic_distilabel_df.shape[0] * 100:.2f}%)\")"
   ]
  },
  {
   "cell_type": "code",
   "execution_count": 19,
   "metadata": {},
   "outputs": [
    {
     "name": "stdout",
     "output_type": "stream",
     "text": [
      "rag4rag Dataset\n",
      "Dataset size: 2152\n",
      "Total hallucinations detected: 452 (21.00%)\n"
     ]
    }
   ],
   "source": [
    "print(\"rag4rag Dataset\")\n",
    "print(f\"Dataset size: {rag_df.shape[0]}\")\n",
    "print(f\"Total hallucinations detected: {rag_hallucinations_df.shape[0]} ({rag_hallucinations_df.shape[0]/rag_df.shape[0] * 100:.2f}%)\")"
   ]
  },
  {
   "cell_type": "code",
   "execution_count": 20,
   "metadata": {},
   "outputs": [
    {
     "name": "stdout",
     "output_type": "stream",
     "text": [
      "Percent decrease in hallucinations: 51.31%\n"
     ]
    }
   ],
   "source": [
    "print(f\"Percent decrease in hallucinations: {((hallucinations_df.shape[0]/synthetic_distilabel_df.shape[0]) - (rag_hallucinations_df.shape[0]/rag_df.shape[0]))/(hallucinations_df.shape[0]/synthetic_distilabel_df.shape[0]) * 100:.2f}%\")"
   ]
  },
  {
   "cell_type": "markdown",
   "metadata": {},
   "source": [
    "## Conclusion\n",
    "\n",
    "The results of this notebook suggest a few things:\n",
    "\n",
    "1. Using all-purpose LLMs for zero-shot retrieval can be unreliable.\n",
    "2. Using a zero-shot approach to generate synthetic QA may significantly taint retrieval datasets hallucinations.\n",
    "3. Using a basic RAG pipeline to generate synthetic answers significantly decreases hallucination rates.\n",
    "4. Hallucinations are still prevalent even after using RAG.\n",
    "\n",
    "Fine-tuning retrieval models on datasets with synthetically generated data should be further investigated. While the true scope of the problem is likely unknown, results from this notebook suggest it may be a serious problem. Furthermore, if models fine-tuned on tainted data are evaluated solely using LLMs, the problem may be even bigger."
   ]
  }
 ],
 "metadata": {
  "kernelspec": {
   "display_name": "rag_data",
   "language": "python",
   "name": "rag_data"
  },
  "language_info": {
   "codemirror_mode": {
    "name": "ipython",
    "version": 3
   },
   "file_extension": ".py",
   "mimetype": "text/x-python",
   "name": "python",
   "nbconvert_exporter": "python",
   "pygments_lexer": "ipython3",
   "version": "3.13.1"
  }
 },
 "nbformat": 4,
 "nbformat_minor": 2
}
