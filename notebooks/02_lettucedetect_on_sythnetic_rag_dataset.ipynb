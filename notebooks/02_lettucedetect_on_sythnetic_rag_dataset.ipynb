{
 "cells": [
  {
   "cell_type": "markdown",
   "metadata": {},
   "source": [
    "# Using LettuceDetect to detect hallucinations in a synthetic RAG dataset (created with Distilabel)\n",
    "\n",
    "In this notebook, we accomplish the following:\n",
    "* Load our dataset of synthetically generated RAG data from notebook #1\n",
    "* Run LettuceDetect over the synthetically generated answers\n",
    "* Save the resulting dataset with detected spans and confidence scores to the HuggingFace Hub"
   ]
  },
  {
   "cell_type": "code",
   "execution_count": 1,
   "metadata": {},
   "outputs": [],
   "source": [
    "import pandas as pd\n",
    "\n",
    "from datasets import Dataset, load_dataset\n",
    "\n",
    "from lettucedetect.models.inference import HallucinationDetector"
   ]
  },
  {
   "cell_type": "code",
   "execution_count": 2,
   "metadata": {},
   "outputs": [],
   "source": [
    "import warnings\n",
    "import logging\n",
    "\n",
    "# Suppress warnings (as you did)\n",
    "warnings.filterwarnings(\"ignore\")\n",
    "\n",
    "# Suppress all logging below ERROR level for the root logger\n",
    "logging.getLogger().setLevel(logging.ERROR)"
   ]
  },
  {
   "cell_type": "code",
   "execution_count": null,
   "metadata": {},
   "outputs": [],
   "source": [
    "# Load synthetic RAG dataset\n",
    "ds = load_dataset(\"m-newhauser/rag-synthetic-distilabel\")\n",
    "ds"
   ]
  },
  {
   "cell_type": "code",
   "execution_count": 4,
   "metadata": {},
   "outputs": [
    {
     "data": {
      "text/html": [
       "<div>\n",
       "<style scoped>\n",
       "    .dataframe tbody tr th:only-of-type {\n",
       "        vertical-align: middle;\n",
       "    }\n",
       "\n",
       "    .dataframe tbody tr th {\n",
       "        vertical-align: top;\n",
       "    }\n",
       "\n",
       "    .dataframe thead th {\n",
       "        text-align: right;\n",
       "    }\n",
       "</style>\n",
       "<table border=\"1\" class=\"dataframe\">\n",
       "  <thead>\n",
       "    <tr style=\"text-align: right;\">\n",
       "      <th></th>\n",
       "      <th>context</th>\n",
       "      <th>anchor</th>\n",
       "      <th>human_positive</th>\n",
       "      <th>synthetic_positive</th>\n",
       "      <th>synthetic_negative</th>\n",
       "    </tr>\n",
       "  </thead>\n",
       "  <tbody>\n",
       "    <tr>\n",
       "      <th>0</th>\n",
       "      <td>Architecturally, the school has a Catholic cha...</td>\n",
       "      <td>To whom did the Virgin Mary allegedly appear i...</td>\n",
       "      <td>Saint Bernadette Soubirous</td>\n",
       "      <td>The Virgin Mary allegedly appeared to Bernadet...</td>\n",
       "      <td>The Virgin Mary appeared in the sky as the sun...</td>\n",
       "    </tr>\n",
       "    <tr>\n",
       "      <th>1</th>\n",
       "      <td>Architecturally, the school has a Catholic cha...</td>\n",
       "      <td>What is in front of the Notre Dame Main Building?</td>\n",
       "      <td>a copper statue of Christ</td>\n",
       "      <td>In front of the Notre Dame Main Building, you'...</td>\n",
       "      <td>The main building's roof is painted in bright ...</td>\n",
       "    </tr>\n",
       "    <tr>\n",
       "      <th>2</th>\n",
       "      <td>Architecturally, the school has a Catholic cha...</td>\n",
       "      <td>The Basilica of the Sacred heart at Notre Dame...</td>\n",
       "      <td>the Main Building</td>\n",
       "      <td>The Basilica of the Sacred Heart at Notre Dame...</td>\n",
       "      <td>The basilica's heart-shaped design was inspire...</td>\n",
       "    </tr>\n",
       "    <tr>\n",
       "      <th>3</th>\n",
       "      <td>Architecturally, the school has a Catholic cha...</td>\n",
       "      <td>What is the Grotto at Notre Dame?</td>\n",
       "      <td>a Marian place of prayer and reflection</td>\n",
       "      <td>The Grotto at Notre Dame is a sacred replica o...</td>\n",
       "      <td>The grotto was filled with colorful lights and...</td>\n",
       "    </tr>\n",
       "    <tr>\n",
       "      <th>4</th>\n",
       "      <td>Architecturally, the school has a Catholic cha...</td>\n",
       "      <td>What sits on top of the Main Building at Notre...</td>\n",
       "      <td>a golden statue of the Virgin Mary</td>\n",
       "      <td>The iconic Golden Dome sits on top of the Main...</td>\n",
       "      <td>The main course sits on top of the dining tabl...</td>\n",
       "    </tr>\n",
       "  </tbody>\n",
       "</table>\n",
       "</div>"
      ],
      "text/plain": [
       "                                             context  \\\n",
       "0  Architecturally, the school has a Catholic cha...   \n",
       "1  Architecturally, the school has a Catholic cha...   \n",
       "2  Architecturally, the school has a Catholic cha...   \n",
       "3  Architecturally, the school has a Catholic cha...   \n",
       "4  Architecturally, the school has a Catholic cha...   \n",
       "\n",
       "                                              anchor  \\\n",
       "0  To whom did the Virgin Mary allegedly appear i...   \n",
       "1  What is in front of the Notre Dame Main Building?   \n",
       "2  The Basilica of the Sacred heart at Notre Dame...   \n",
       "3                  What is the Grotto at Notre Dame?   \n",
       "4  What sits on top of the Main Building at Notre...   \n",
       "\n",
       "                            human_positive  \\\n",
       "0               Saint Bernadette Soubirous   \n",
       "1                a copper statue of Christ   \n",
       "2                        the Main Building   \n",
       "3  a Marian place of prayer and reflection   \n",
       "4       a golden statue of the Virgin Mary   \n",
       "\n",
       "                                  synthetic_positive  \\\n",
       "0  The Virgin Mary allegedly appeared to Bernadet...   \n",
       "1  In front of the Notre Dame Main Building, you'...   \n",
       "2  The Basilica of the Sacred Heart at Notre Dame...   \n",
       "3  The Grotto at Notre Dame is a sacred replica o...   \n",
       "4  The iconic Golden Dome sits on top of the Main...   \n",
       "\n",
       "                                  synthetic_negative  \n",
       "0  The Virgin Mary appeared in the sky as the sun...  \n",
       "1  The main building's roof is painted in bright ...  \n",
       "2  The basilica's heart-shaped design was inspire...  \n",
       "3  The grotto was filled with colorful lights and...  \n",
       "4  The main course sits on top of the dining tabl...  "
      ]
     },
     "execution_count": 4,
     "metadata": {},
     "output_type": "execute_result"
    }
   ],
   "source": [
    "# Transform dataset to dataframe\n",
    "df = ds[\"train\"].to_pandas()\n",
    "\n",
    "# Preview the dataset\n",
    "df.head()"
   ]
  },
  {
   "cell_type": "markdown",
   "metadata": {},
   "source": [
    "## Use LettuceDetect to detect hallucinations in synthetic data\n",
    "\n",
    "Next, we use `LettuceDetect` to compare the synethically-generated positive answers (`synthetic_positive`) with the `context`, which contains the real answer to the `question`.\n",
    "\n",
    "`LettuceDetect` is a robust open source hallucination detection framework designed specifically for RAG. Built on ModernBERT and hosted on the HuggingFace Model Hub, it identifies hallucinated spans of text in LLM-generated answers."
   ]
  },
  {
   "cell_type": "code",
   "execution_count": 5,
   "metadata": {},
   "outputs": [],
   "source": [
    "# Load the hallucination detector model\n",
    "detector = HallucinationDetector(\n",
    "    method=\"transformer\", model_path=\"KRLabsOrg/lettucedect-base-modernbert-en-v1\"\n",
    ")"
   ]
  },
  {
   "cell_type": "markdown",
   "metadata": {},
   "source": [
    "*Note: This cell can take 30+ minutes to execute.*"
   ]
  },
  {
   "cell_type": "code",
   "execution_count": 6,
   "metadata": {},
   "outputs": [],
   "source": [
    "# Run over the RAG dataset\n",
    "def predict_hallucinations(row):\n",
    "    predictions = detector.predict(\n",
    "        context=[row['context']],\n",
    "        question=row['anchor'],\n",
    "        answer=row['synthetic_positive'],\n",
    "        output_format=\"spans\"\n",
    "    )\n",
    "    # Assuming predictions is a list of dictionaries\n",
    "    if predictions:\n",
    "        return predictions[0].get('text', ''), predictions[0].get('confidence', 0.0)\n",
    "    return '', ''\n",
    "\n",
    "# Apply the function to each row of the DataFrame\n",
    "df[['hallucinated_span', 'confidence']] = df.apply(predict_hallucinations, axis=1, result_type='expand')"
   ]
  },
  {
   "cell_type": "code",
   "execution_count": 7,
   "metadata": {},
   "outputs": [],
   "source": [
    "# Replace blank strings with NaN\n",
    "df['confidence'] = df['confidence'].replace('', pd.NA)\n",
    "\n",
    "# Convert the column to numeric (float or int)\n",
    "df['confidence'] = pd.to_numeric(df['confidence'], errors='raise')"
   ]
  },
  {
   "cell_type": "code",
   "execution_count": 8,
   "metadata": {},
   "outputs": [],
   "source": [
    "# Convert the DataFrame to a Dataset object\n",
    "ds = Dataset.from_pandas(df)\n",
    "\n",
    "# Upload dataset to HuggingFace Hub\n",
    "ds.push_to_hub(\"m-newhauser/rag-synthetic-distilabel-hallucinations\")"
   ]
  }
 ],
 "metadata": {
  "kernelspec": {
   "display_name": "rag_data",
   "language": "python",
   "name": "rag_data"
  },
  "language_info": {
   "codemirror_mode": {
    "name": "ipython",
    "version": 3
   },
   "file_extension": ".py",
   "mimetype": "text/x-python",
   "name": "python",
   "nbconvert_exporter": "python",
   "pygments_lexer": "ipython3",
   "version": "3.13.1"
  }
 },
 "nbformat": 4,
 "nbformat_minor": 2
}
